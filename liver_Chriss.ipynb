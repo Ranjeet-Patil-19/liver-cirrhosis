{
  "nbformat": 4,
  "nbformat_minor": 0,
  "metadata": {
    "colab": {
      "provenance": [],
      "authorship_tag": "ABX9TyNq0GDoE6MUyayv6l2ckckh",
      "include_colab_link": true
    },
    "kernelspec": {
      "name": "python3",
      "display_name": "Python 3"
    },
    "language_info": {
      "name": "python"
    }
  },
  "cells": [
    {
      "cell_type": "markdown",
      "metadata": {
        "id": "view-in-github",
        "colab_type": "text"
      },
      "source": [
        "<a href=\"https://colab.research.google.com/github/Ranjeet-Patil-19/liver-cirrhosis/blob/main/liver_Chriss.ipynb\" target=\"_parent\"><img src=\"https://colab.research.google.com/assets/colab-badge.svg\" alt=\"Open In Colab\"/></a>"
      ]
    },
    {
      "cell_type": "code",
      "execution_count": 1,
      "metadata": {
        "id": "NHGJJPxrKnhD"
      },
      "outputs": [],
      "source": [
        "import pandas as pd\n",
        "import numpy as np\n",
        "from sklearn.model_selection import train_test_split, GridSearchCV\n",
        "from sklearn.ensemble import RandomForestClassifier, GradientBoostingClassifier\n",
        "from sklearn.metrics import classification_report, confusion_matrix, accuracy_score, roc_auc_score\n",
        "from sklearn.preprocessing import LabelEncoder, StandardScaler\n",
        "from imblearn.over_sampling import SMOTE\n",
        "import shap\n",
        "import matplotlib.pyplot as plt\n",
        "import seaborn as sns\n"
      ]
    },
    {
      "cell_type": "code",
      "source": [
        "# Load the dataset\n",
        "file_path = 'liver_cirrhosis.csv'\n",
        "data = pd.read_csv(file_path)\n"
      ],
      "metadata": {
        "id": "d-9C4zPtKuSS"
      },
      "execution_count": 2,
      "outputs": []
    },
    {
      "cell_type": "code",
      "source": [
        "# Display basic dataset information\n",
        "print(\"Dataset Head:\")\n",
        "print(data.head())\n",
        "print(\"\\nDataset Info:\")\n",
        "print(data.info())\n",
        "print(\"\\nMissing Values:\")\n",
        "print(data.isnull().sum())\n",
        "\n"
      ],
      "metadata": {
        "colab": {
          "base_uri": "https://localhost:8080/"
        },
        "id": "kkq_CQsIK4X3",
        "outputId": "916a1a45-fb2b-4c93-b64d-21b83c1e6b58"
      },
      "execution_count": 3,
      "outputs": [
        {
          "output_type": "stream",
          "name": "stdout",
          "text": [
            "Dataset Head:\n",
            "   N_Days Status     Drug    Age Sex Ascites Hepatomegaly Spiders Edema  \\\n",
            "0    2221      C  Placebo  18499   F       N            Y       N     N   \n",
            "1    1230      C  Placebo  19724   M       Y            N       Y     N   \n",
            "2    4184      C  Placebo  11839   F       N            N       N     N   \n",
            "3    2090      D  Placebo  16467   F       N            N       N     N   \n",
            "4    2105      D  Placebo  21699   F       N            Y       N     N   \n",
            "\n",
            "   Bilirubin  Cholesterol  Albumin  Copper  Alk_Phos    SGOT  Tryglicerides  \\\n",
            "0        0.5        149.0     4.04   227.0     598.0   52.70           57.0   \n",
            "1        0.5        219.0     3.93    22.0     663.0   45.00           75.0   \n",
            "2        0.5        320.0     3.54    51.0    1243.0  122.45           80.0   \n",
            "3        0.7        255.0     3.74    23.0    1024.0   77.50           58.0   \n",
            "4        1.9        486.0     3.54    74.0    1052.0  108.50          109.0   \n",
            "\n",
            "   Platelets  Prothrombin  Stage  \n",
            "0      256.0          9.9      1  \n",
            "1      220.0         10.8      2  \n",
            "2      225.0         10.0      2  \n",
            "3      151.0         10.2      2  \n",
            "4      151.0         11.5      1  \n",
            "\n",
            "Dataset Info:\n",
            "<class 'pandas.core.frame.DataFrame'>\n",
            "RangeIndex: 25000 entries, 0 to 24999\n",
            "Data columns (total 19 columns):\n",
            " #   Column         Non-Null Count  Dtype  \n",
            "---  ------         --------------  -----  \n",
            " 0   N_Days         25000 non-null  int64  \n",
            " 1   Status         25000 non-null  object \n",
            " 2   Drug           25000 non-null  object \n",
            " 3   Age            25000 non-null  int64  \n",
            " 4   Sex            25000 non-null  object \n",
            " 5   Ascites        25000 non-null  object \n",
            " 6   Hepatomegaly   25000 non-null  object \n",
            " 7   Spiders        25000 non-null  object \n",
            " 8   Edema          25000 non-null  object \n",
            " 9   Bilirubin      25000 non-null  float64\n",
            " 10  Cholesterol    25000 non-null  float64\n",
            " 11  Albumin        25000 non-null  float64\n",
            " 12  Copper         25000 non-null  float64\n",
            " 13  Alk_Phos       25000 non-null  float64\n",
            " 14  SGOT           25000 non-null  float64\n",
            " 15  Tryglicerides  25000 non-null  float64\n",
            " 16  Platelets      25000 non-null  float64\n",
            " 17  Prothrombin    25000 non-null  float64\n",
            " 18  Stage          25000 non-null  int64  \n",
            "dtypes: float64(9), int64(3), object(7)\n",
            "memory usage: 3.6+ MB\n",
            "None\n",
            "\n",
            "Missing Values:\n",
            "N_Days           0\n",
            "Status           0\n",
            "Drug             0\n",
            "Age              0\n",
            "Sex              0\n",
            "Ascites          0\n",
            "Hepatomegaly     0\n",
            "Spiders          0\n",
            "Edema            0\n",
            "Bilirubin        0\n",
            "Cholesterol      0\n",
            "Albumin          0\n",
            "Copper           0\n",
            "Alk_Phos         0\n",
            "SGOT             0\n",
            "Tryglicerides    0\n",
            "Platelets        0\n",
            "Prothrombin      0\n",
            "Stage            0\n",
            "dtype: int64\n"
          ]
        }
      ]
    },
    {
      "cell_type": "code",
      "source": [
        "# Encode categorical variables\n",
        "categorical_features = ['Status', 'Drug', 'Sex', 'Ascites', 'Hepatomegaly', 'Spiders', 'Edema']\n",
        "label_encoders = {}\n",
        "\n",
        "for feature in categorical_features:\n",
        "    le = LabelEncoder()\n",
        "    data[feature] = le.fit_transform(data[feature])\n",
        "    label_encoders[feature] = le\n",
        "\n"
      ],
      "metadata": {
        "id": "XrG8bZETK8Th"
      },
      "execution_count": 5,
      "outputs": []
    },
    {
      "cell_type": "code",
      "source": [
        "# Define features (X) and target (y)\n",
        "X = data.drop(columns=['Stage'])\n",
        "y = data['Stage']\n"
      ],
      "metadata": {
        "id": "ffWZ13L8LA1G"
      },
      "execution_count": 6,
      "outputs": []
    },
    {
      "cell_type": "code",
      "source": [
        "# Scale numerical features\n",
        "numerical_features = ['Age', 'Bilirubin', 'Cholesterol', 'Albumin', 'Copper', 'Alk_Phos', 'SGOT', 'Tryglicerides', 'Platelets', 'Prothrombin']\n",
        "scaler = StandardScaler()\n",
        "X[numerical_features] = scaler.fit_transform(X[numerical_features])\n"
      ],
      "metadata": {
        "id": "YNa3T-mELIgB"
      },
      "execution_count": 7,
      "outputs": []
    },
    {
      "cell_type": "code",
      "source": [
        "# Handle class imbalance with SMOTE\n",
        "smote = SMOTE(random_state=42)\n",
        "X_resampled, y_resampled = smote.fit_resample(X, y)\n"
      ],
      "metadata": {
        "id": "ZbStJU36LLiF"
      },
      "execution_count": 8,
      "outputs": []
    },
    {
      "cell_type": "code",
      "source": [
        "# Split the data into training and testing sets\n",
        "X_train, X_test, y_train, y_test = train_test_split(X_resampled, y_resampled, test_size=0.2, random_state=42)\n"
      ],
      "metadata": {
        "id": "LiD5Xa3yLOfp"
      },
      "execution_count": 9,
      "outputs": []
    },
    {
      "cell_type": "code",
      "source": [
        "# Train a Random Forest Classifier with hyperparameter tuning\n",
        "rf_params = {\n",
        "    'n_estimators': [100, 200, 300],\n",
        "    'max_depth': [None, 10, 20],\n",
        "    'min_samples_split': [2, 5, 10],\n",
        "    'min_samples_leaf': [1, 2, 4]\n",
        "}\n"
      ],
      "metadata": {
        "id": "T8jUBExOLR9V"
      },
      "execution_count": 10,
      "outputs": []
    },
    {
      "cell_type": "code",
      "source": [
        "# Initialize Random Forest model and perform hyperparameter tuning using GridSearchCV\n",
        "rf_model = RandomForestClassifier(random_state=42)\n",
        "grid_search = GridSearchCV(estimator=rf_model, param_grid=rf_params, cv=5, n_jobs=-1, scoring='accuracy')\n",
        "grid_search.fit(X_train, y_train)\n"
      ],
      "metadata": {
        "id": "ma9tVfd1LUsp"
      },
      "execution_count": null,
      "outputs": []
    },
    {
      "cell_type": "code",
      "source": [
        "# Get the best model from the grid search\n",
        "best_rf_model = grid_search.best_estimator_\n"
      ],
      "metadata": {
        "id": "_d2ux8raLYnT"
      },
      "execution_count": null,
      "outputs": []
    },
    {
      "cell_type": "code",
      "source": [
        "# Train Gradient Boosting Model for comparison\n",
        "gb_model = GradientBoostingClassifier(random_state=42)\n",
        "gb_model.fit(X_train, y_train)\n"
      ],
      "metadata": {
        "id": "vZ-fL0R5LcRj"
      },
      "execution_count": null,
      "outputs": []
    },
    {
      "cell_type": "code",
      "source": [
        "# Evaluate the models and print metrics\n",
        "models = {'Random Forest': best_rf_model, 'Gradient Boosting': gb_model}\n",
        "\n",
        "for name, model in models.items():\n",
        "    print(f\"\\n{name} Model Evaluation:\")\n",
        "    y_pred = model.predict(X_test)\n",
        "    print(\"Confusion Matrix:\")\n",
        "    print(confusion_matrix(y_test, y_pred))\n",
        "    print(\"Classification Report:\")\n",
        "    print(classification_report(y_test, y_pred))\n",
        "    print(\"Accuracy Score:\", accuracy_score(y_test, y_pred))\n",
        "    print(\"ROC-AUC Score:\", roc_auc_score(y_test, model.predict_proba(X_test), multi_class='ovr'))\n"
      ],
      "metadata": {
        "id": "az08rcwjLe8T"
      },
      "execution_count": null,
      "outputs": []
    },
    {
      "cell_type": "code",
      "source": [
        "# Visualize feature importance for Random Forest model\n",
        "feature_importance = pd.Series(best_rf_model.feature_importances_, index=X.columns)\n",
        "feature_importance.sort_values(ascending=False, inplace=True)\n",
        "\n",
        "print(\"\\nFeature Importance:\")\n",
        "print(feature_importance)\n",
        "\n",
        "plt.figure(figsize=(12, 8))\n",
        "feature_importance.head(10).plot(kind='bar', title='Top 10 Feature Importances', color='skyblue')\n",
        "plt.ylabel('Importance')\n",
        "plt.show()\n"
      ],
      "metadata": {
        "id": "RSIuKZF_LjP2"
      },
      "execution_count": null,
      "outputs": []
    },
    {
      "cell_type": "code",
      "source": [
        "# Correlation Heatmap to analyze relationships between features\n",
        "plt.figure(figsize=(12, 8))\n",
        "sns.heatmap(data.corr(), annot=True, cmap='coolwarm', fmt='.2f')\n",
        "plt.title('Feature Correlation Heatmap')\n",
        "plt.show()\n"
      ],
      "metadata": {
        "id": "3hQp55KILna3"
      },
      "execution_count": null,
      "outputs": []
    },
    {
      "cell_type": "code",
      "source": [
        "# Explainability with SHAP (using the best Random Forest model)\n",
        "explainer = shap.TreeExplainer(best_rf_model)\n",
        "shap_values = explainer.shap_values(X_test)\n"
      ],
      "metadata": {
        "id": "PQQe7TXkLsrM"
      },
      "execution_count": null,
      "outputs": []
    },
    {
      "cell_type": "code",
      "source": [
        "# Summary plot of SHAP values\n",
        "shap.summary_plot(shap_values[1], X_test, feature_names=X.columns)\n"
      ],
      "metadata": {
        "id": "XvJD9LUZLwwM"
      },
      "execution_count": null,
      "outputs": []
    },
    {
      "cell_type": "code",
      "source": [
        "# SHAP Dependence Plot for a Key Feature to understand its relationship with predictions\n",
        "shap.dependence_plot(\"Bilirubin\", shap_values[1], X_test, feature_names=X.columns)\n",
        "\n"
      ],
      "metadata": {
        "id": "47TtdsIFL1Ok"
      },
      "execution_count": null,
      "outputs": []
    },
    {
      "cell_type": "code",
      "source": [
        "# Save the best model using joblib for persistence\n",
        "import joblib\n",
        "joblib.dump(best_rf_model, 'best_rf_liver_cirrhosis_model.pkl')\n",
        "\n",
        "print(\"Model saved successfully as 'best_rf_liver_cirrhosis_model.pkl'\")\n"
      ],
      "metadata": {
        "id": "o9bLUBOIL4Ok"
      },
      "execution_count": null,
      "outputs": []
    },
    {
      "cell_type": "code",
      "source": [],
      "metadata": {
        "id": "_0rWfgn8L7IE"
      },
      "execution_count": null,
      "outputs": []
    }
  ]
}